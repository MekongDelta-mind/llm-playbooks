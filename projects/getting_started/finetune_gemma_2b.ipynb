{
 "cells": [
  {
   "cell_type": "markdown",
   "metadata": {},
   "source": [
    "## Constants"
   ]
  },
  {
   "cell_type": "code",
   "execution_count": 1,
   "metadata": {},
   "outputs": [],
   "source": [
    "TRAIN_SIZE = 300\n",
    "TEST_SIZE = 30\n",
    "SEED = 123"
   ]
  },
  {
   "cell_type": "markdown",
   "metadata": {},
   "source": [
    "## Dataset"
   ]
  },
  {
   "cell_type": "code",
   "execution_count": 2,
   "metadata": {},
   "outputs": [
    {
     "data": {
      "application/vnd.jupyter.widget-view+json": {
       "model_id": "84ac45a06223490189ecacf910114a3f",
       "version_major": 2,
       "version_minor": 0
      },
      "text/plain": [
       "Downloading readme:   0%|          | 0.00/1.77k [00:00<?, ?B/s]"
      ]
     },
     "metadata": {},
     "output_type": "display_data"
    },
    {
     "data": {
      "application/vnd.jupyter.widget-view+json": {
       "model_id": "fbe4f2be338e40ef843187475dcb7eb9",
       "version_major": 2,
       "version_minor": 0
      },
      "text/plain": [
       "Downloading data:   0%|          | 0.00/10.7M [00:00<?, ?B/s]"
      ]
     },
     "metadata": {},
     "output_type": "display_data"
    },
    {
     "data": {
      "application/vnd.jupyter.widget-view+json": {
       "model_id": "8cdb82614f9544d1911bf459668cafbb",
       "version_major": 2,
       "version_minor": 0
      },
      "text/plain": [
       "Generating train split:   0%|          | 0/10178 [00:00<?, ? examples/s]"
      ]
     },
     "metadata": {},
     "output_type": "display_data"
    },
    {
     "data": {
      "text/plain": [
       "DatasetDict({\n",
       "    train: Dataset({\n",
       "        features: ['input', 'instruction', 'output'],\n",
       "        num_rows: 10178\n",
       "    })\n",
       "})"
      ]
     },
     "metadata": {},
     "output_type": "display_data"
    }
   ],
   "source": [
    "# pip install datasets\n",
    "from datasets import load_dataset\n",
    "\n",
    "dataset = load_dataset(\"medalpaca/medical_meadow_medqa\")"
   ]
  },
  {
   "cell_type": "markdown",
   "metadata": {},
   "source": [
    "### Preprocessing\n",
    "\n",
    "We're not going to focus much on the preprocessing in this tutorial, so feel free to skim over or skip this subsection."
   ]
  },
  {
   "cell_type": "code",
   "execution_count": 3,
   "metadata": {},
   "outputs": [
    {
     "data": {
      "text/plain": [
       "DatasetDict({\n",
       "    train: Dataset({\n",
       "        features: ['input', 'instruction', 'output'],\n",
       "        num_rows: 300\n",
       "    })\n",
       "    test: Dataset({\n",
       "        features: ['input', 'instruction', 'output'],\n",
       "        num_rows: 30\n",
       "    })\n",
       "})"
      ]
     },
     "metadata": {},
     "output_type": "display_data"
    }
   ],
   "source": [
    "# Sample train and test sets\n",
    "display(dataset)\n",
    "\n",
    "dataset = dataset[\"train\"].train_test_split(\n",
    "    train_size=TRAIN_SIZE,\n",
    "    test_size=TEST_SIZE,\n",
    "    shuffle=True,\n",
    "    seed=SEED\n",
    ")\n",
    "display(dataset)"
   ]
  },
  {
   "cell_type": "code",
   "execution_count": 4,
   "metadata": {},
   "outputs": [
    {
     "name": "stdout",
     "output_type": "stream",
     "text": [
      "# Input\n",
      "Q:A 5-year-old boy is brought to the emergency department after he fell on the playground in kindergarten and was unable to get up. His right leg was found to be bent abnormally at the femur, and he was splinted on site by first responders. His past medical history is significant for multiple prior fractures in his left humerus and femur. Otherwise, he has been hitting normal developmental milestones and appears to be excelling in kindergarten. Physical exam also reveals the finding shown in figure A. Which of the following is the most likely cause of this patient's multiple fractures?? \n",
      "{'A': 'Abnormal collagen production', 'B': 'Decreased collagen hydroxylation', 'C': 'Increased adenylyl cyclase activity', 'D': 'Mutation in neurofibromin', 'E': 'Non-accidental trauma'},\n",
      "\n",
      "# Instruction\n",
      "Please answer with one of the option in the bracket\n",
      "\n",
      "# Output\n",
      "C: Increased adenylyl cyclase activity\n"
     ]
    }
   ],
   "source": [
    "# original format of the dataset\n",
    "def print_sample(sample: dict[str, str]):\n",
    "    message = \"\\n\".join(\n",
    "        f\"\\n# {k.capitalize()}\\n{v}\" for k, v in sample.items()\n",
    "    )[1:]\n",
    "    print(message)\n",
    "\n",
    "print_sample(example := dataset[\"train\"][0])"
   ]
  },
  {
   "cell_type": "code",
   "execution_count": 5,
   "metadata": {},
   "outputs": [
    {
     "data": {
      "application/vnd.jupyter.widget-view+json": {
       "model_id": "1b1cdf6bafec4d328e472f2567008a7c",
       "version_major": 2,
       "version_minor": 0
      },
      "text/plain": [
       "Map:   0%|          | 0/300 [00:00<?, ? examples/s]"
      ]
     },
     "metadata": {},
     "output_type": "display_data"
    },
    {
     "data": {
      "application/vnd.jupyter.widget-view+json": {
       "model_id": "b862b6c29c864d0ba8cf3b073de9a411",
       "version_major": 2,
       "version_minor": 0
      },
      "text/plain": [
       "Map:   0%|          | 0/30 [00:00<?, ? examples/s]"
      ]
     },
     "metadata": {},
     "output_type": "display_data"
    },
    {
     "data": {
      "text/plain": [
       "DatasetDict({\n",
       "    train: Dataset({\n",
       "        features: ['input', 'output'],\n",
       "        num_rows: 300\n",
       "    })\n",
       "    test: Dataset({\n",
       "        features: ['input', 'output'],\n",
       "        num_rows: 30\n",
       "    })\n",
       "})"
      ]
     },
     "metadata": {},
     "output_type": "display_data"
    },
    {
     "name": "stdout",
     "output_type": "stream",
     "text": [
      "# Input\n",
      "Q: A 5-year-old boy is brought to the emergency department after he fell on the playground in kindergarten and was unable to get up. His right leg was found to be bent abnormally at the femur, and he was splinted on site by first responders. His past medical history is significant for multiple prior fractures in his left humerus and femur. Otherwise, he has been hitting normal developmental milestones and appears to be excelling in kindergarten. Physical exam also reveals the finding shown in figure A. Which of the following is the most likely cause of this patient's multiple fractures?? Provide your answer as a JSON dictionary with the \"option\" and answer \"text\".\n",
      "{'A': 'Abnormal collagen production', 'B': 'Decreased collagen hydroxylation', 'C': 'Increased adenylyl cyclase activity', 'D': 'Mutation in neurofibromin', 'E': 'Non-accidental trauma'}\n",
      "\n",
      "# Output\n",
      "{\"option\": \"C\", \"text\": \"Increased adenylyl cyclase activity\"}\n"
     ]
    }
   ],
   "source": [
    "# reformat the dataset\n",
    "import json\n",
    "\n",
    "def reformat_sample(sample: dict[str, str]) -> dict[str, str]:\n",
    "    input = \"Q: \" + sample[\"input\"].removeprefix(\"Q:\").removesuffix(\",\")\n",
    "    input = input.replace(\n",
    "        \"\\n{\",\n",
    "        'Provide your answer as a JSON dictionary with the \"option\" and answer \"text\".\\n{'\n",
    "    )\n",
    "\n",
    "    answer_option = sample[\"output\"][0]\n",
    "    answer_text = sample[\"output\"][3:]\n",
    "    output = json.dumps({\"option\": answer_option, \"text\": answer_text})\n",
    "\n",
    "    return {\"input\": input, \"output\": output}\n",
    "\n",
    "\n",
    "dataset = dataset.map(reformat_sample).remove_columns(\"instruction\")\n",
    "\n",
    "display(dataset)\n",
    "print_sample(example := dataset[\"train\"][0])"
   ]
  },
  {
   "cell_type": "markdown",
   "metadata": {},
   "source": [
    "### Final finetuning dataset"
   ]
  },
  {
   "cell_type": "markdown",
   "metadata": {},
   "source": [
    "## Load Gemma 2B instruct model"
   ]
  },
  {
   "cell_type": "code",
   "execution_count": 6,
   "metadata": {},
   "outputs": [
    {
     "name": "stderr",
     "output_type": "stream",
     "text": [
      "`low_cpu_mem_usage` was None, now set to True since model is quantized.\n",
      "`config.hidden_act` is ignored, you should use `config.hidden_activation` instead.\n",
      "Gemma's activation function will be set to `gelu_pytorch_tanh`. Please, use\n",
      "`config.hidden_activation` if you want to override this behaviour.\n",
      "See https://github.com/huggingface/transformers/pull/29402 for more details.\n"
     ]
    },
    {
     "data": {
      "application/vnd.jupyter.widget-view+json": {
       "model_id": "e33dc70882324e868b4bc6fc7b499724",
       "version_major": 2,
       "version_minor": 0
      },
      "text/plain": [
       "Loading checkpoint shards:   0%|          | 0/2 [00:00<?, ?it/s]"
      ]
     },
     "metadata": {},
     "output_type": "display_data"
    },
    {
     "name": "stdout",
     "output_type": "stream",
     "text": [
      "cuda:0\n"
     ]
    }
   ],
   "source": [
    "# pip install torch transformers\n",
    "import torch\n",
    "from transformers import AutoTokenizer, AutoModelForCausalLM\n",
    "\n",
    "tokenizer = AutoTokenizer.from_pretrained(\"google/gemma-2b-it\")\n",
    "\n",
    "if torch.cuda.is_available():\n",
    "    # pip install bitsandbytes accelerate\n",
    "    from transformers import BitsAndBytesConfig\n",
    "\n",
    "    quantization_config = BitsAndBytesConfig(load_in_8bit=True)\n",
    "else:\n",
    "    quantization_config = None\n",
    "\n",
    "model = AutoModelForCausalLM.from_pretrained(\n",
    "    \"google/gemma-2b-it\",\n",
    "    quantization_config=quantization_config\n",
    ")\n",
    "print(model.device)"
   ]
  },
  {
   "cell_type": "code",
   "execution_count": 34,
   "metadata": {},
   "outputs": [
    {
     "name": "stdout",
     "output_type": "stream",
     "text": [
      "<bos><start_of_turn>user\n",
      "Q: A 5-year-old boy is brought to the emergency department after he fell on the playground in kindergarten and was unable to get up. His right leg was found to be bent abnormally at the femur, and he was splinted on site by first responders. His past medical history is significant for multiple prior fractures in his left humerus and femur. Otherwise, he has been hitting normal developmental milestones and appears to be excelling in kindergarten. Physical exam also reveals the finding shown in figure A. Which of the following is the most likely cause of this patient's multiple fractures?? Provide your answer as a JSON dictionary with the \"option\" and answer \"text\".\n",
      "{'A': 'Abnormal collagen production', 'B': 'Decreased collagen hydroxylation', 'C': 'Increased adenylyl cyclase activity', 'D': 'Mutation in neurofibromin', 'E': 'Non-accidental trauma'}<end_of_turn>\n",
      "<start_of_turn>model\n",
      "{\n",
      "\"option\": \"A\",\n",
      "\"answer\": \"Abnormal collagen production\"\n",
      "}<eos>\n"
     ]
    }
   ],
   "source": [
    "chat = [\n",
    "    {\"role\": \"user\", \"content\": example[\"input\"]},\n",
    "]\n",
    "input_ids = tokenizer.apply_chat_template(chat, add_generation_prompt=True, return_tensors=\"pt\").to(model.device)\n",
    "\n",
    "output_ids = model.generate(\n",
    "    input_ids,\n",
    "    do_sample=True,\n",
    "    max_new_tokens=512,\n",
    "    temperature=1e-3,\n",
    ")\n",
    "print(tokenizer.decode(output_ids[0]))"
   ]
  },
  {
   "cell_type": "code",
   "execution_count": null,
   "metadata": {},
   "outputs": [],
   "source": [
    "def get_generated_texts(input_ids: torch.Tensor, output_ids: torch.Tensor, remove_eos: bool = True) -> list[str]:\n",
    "    \"\"\"Retreive only the generated text based on input and output ids\n",
    "\n",
    "    Args:\n",
    "        input_ids (torch.Tensor): batch of input ids\n",
    "        output_ids (torch.Tensor): corresponding output ids\n",
    "        remove_eos (bool, optional): whether to remove the final <eos> token. Defaults to True.\n",
    "\n",
    "    Returns:\n",
    "        list[str]: _description_\n",
    "    \"\"\"\n",
    "    texts = [\n",
    "        tokenizer.decode(out_seq[len(in_seq):])\n",
    "        for in_seq, out_seq in zip(input_ids, output_ids)\n",
    "    ]\n",
    "    if remove_eos:\n",
    "        texts = [text.removesuffix(\"<eos>\") for text in texts]\n",
    "    return texts\n"
   ]
  },
  {
   "cell_type": "code",
   "execution_count": 21,
   "metadata": {},
   "outputs": [
    {
     "data": {
      "text/plain": [
       "tensor([[     0,      0,      0,      2,  10914,    573,   6883, 235292,    974,\n",
       "           1378,   2149,   2785,   4105,   4442,   6861,   8469,   9981,   2797,\n",
       "            109,    651,   3448,    603,    573,  40027, 235265,    109,    651,\n",
       "          40027,    603,    476,   6883,    576,  11187,    674,    708,   1671,\n",
       "            577,   5598, 235265,    714,  11187,    708,  20677,    575,    476,\n",
       "           3724,   2184, 235269,    578,    984,    798,    614,   1671,    577,\n",
       "           1736,   3907, 235265,      1],\n",
       "        [     2,   1723,   1503,    603,  23191, 235269,   1212,    603,    861,\n",
       "           1503, 235336,    109,   4521,  11270, 235341,   1165, 235303, 235256,\n",
       "           4866,    577,   4664,    692, 235265,   2439, 235303, 235256,    861,\n",
       "           1503, 235336,      1,      0,      0,      0,      0,      0,      0,\n",
       "              0,      0,      0,      0,      0,      0,      0,      0,      0,\n",
       "              0,      0,      0,      0,      0,      0,      0,      0,      0,\n",
       "              0,      0,      0,      0]])"
      ]
     },
     "execution_count": 21,
     "metadata": {},
     "output_type": "execute_result"
    }
   ],
   "source": [
    "inputs = tokenizer([\"Match the pattern: one two three\", \"my name is bob, what is your name?\"], return_tensors=\"pt\", padding=True)\n",
    "model.generate(\n",
    "    **inputs,\n",
    "    do_sample=True,\n",
    "    max_new_tokens=200,\n",
    "    temperature=1e-3,\n",
    ")"
   ]
  },
  {
   "cell_type": "markdown",
   "metadata": {},
   "source": [
    "## Evaluate before finetuning"
   ]
  },
  {
   "cell_type": "markdown",
   "metadata": {},
   "source": [
    "### Evaluation utils"
   ]
  },
  {
   "cell_type": "code",
   "execution_count": null,
   "metadata": {},
   "outputs": [
    {
     "data": {
      "text/plain": [
       "{'A': 'Early disseminated Lyme disease',\n",
       " 'B': 'Embolic stroke at the posterior inferior cerebellar artery (PICA)',\n",
       " 'C': 'Hypoperfusion of the anterior spinal artery (ASA)',\n",
       " 'D': 'Labryrinthitis',\n",
       " 'E': 'Thrombotic stroke at the anterior inferior cerebellar artery (AICA)'}"
      ]
     },
     "metadata": {},
     "output_type": "display_data"
    },
    {
     "data": {
      "text/plain": [
       "'E'"
      ]
     },
     "metadata": {},
     "output_type": "display_data"
    }
   ],
   "source": [
    "import re\n",
    "\n",
    "# pip install rapidfuzz\n",
    "from rapidfuzz import fuzz\n",
    "from rapidfuzz.utils import default_process\n",
    "\n",
    "example_passage = \"\"\"\n",
    "Q:A 67-year-old man with a past medical history of poorly-controlled type 2 diabetes mellitus (T2DM) is brought to the emergency department for acute onset nausea and vomiting. According to the patient, he suddenly experienced vertigo and began vomiting 3 hours ago while watching TV. He reports hiking in New Hampshire with his wife 2 days ago. Past medical history is significant for a myocardial infarction (MI) that was treated with cardiac stenting, T2DM, and hypertension. Medications include lisinopril, aspirin, atorvastatin, warfarin, and insulin. Physical examination demonstrates left-sided facial droop and decreased pinprick sensation at the right arm and leg. What is the most likely etiology of this patient’s symptoms?? {'A': 'Early disseminated Lyme disease', 'B': 'Embolic stroke at the posterior inferior cerebellar artery (PICA)', 'C': 'Hypoperfusion of the anterior spinal artery (ASA)', 'D': 'Labryrinthitis', 'E': 'Thrombotic stroke at the anterior inferior cerebellar artery (AICA)'},\n",
    "\"\"\".strip()\n",
    "\n",
    "example_substr = \"stroke at the anterior inferior cerebellar artery\"\n",
    "\n",
    "def get_available_qa_choices(passage: str) -> dict[str, str]:\n",
    "    return {\n",
    "        match.group(1): match.group(2)\n",
    "        for match in re.finditer(\"'([^']+)': '([^']+)'\", passage)\n",
    "    }\n",
    "\n",
    "def get_best_match(answer_text: str, passage: str) -> str:\n",
    "    choices = get_available_qa_choices(passage)\n",
    "    if not choices:\n",
    "        return \"\"  # no choices found\n",
    "    return sorted(\n",
    "        choices,\n",
    "        key=lambda c: fuzz.token_set_ratio(choices[c], answer_text, processor=default_process)\n",
    "    )[-1]\n",
    "\n",
    "display(get_available_qa_choices(example_passage))\n",
    "display(get_best_match(example_substr, example_passage))"
   ]
  },
  {
   "cell_type": "code",
   "execution_count": null,
   "metadata": {},
   "outputs": [
    {
     "data": {
      "text/plain": [
       "'A'"
      ]
     },
     "metadata": {},
     "output_type": "display_data"
    },
    {
     "data": {
      "text/plain": [
       "'E'"
      ]
     },
     "metadata": {},
     "output_type": "display_data"
    },
    {
     "data": {
      "text/plain": [
       "''"
      ]
     },
     "metadata": {},
     "output_type": "display_data"
    }
   ],
   "source": [
    "example_pred_text = \"\"\"\n",
    "{\n",
    "\"option\": \"A\",\n",
    "\"answer\": \"Abnormal collagen production\"\n",
    "}<eos>\n",
    "\"\"\".strip()\n",
    "\n",
    "def parse_prediction(pred_text: str, passage: str = \"\") -> str:\n",
    "    \"\"\"Parse the predicted answer based on the output text, with text matching as backup.\n",
    "\n",
    "    Args:\n",
    "        pred_text (str): text outputted from the language model.\n",
    "        passage (str, optional): The input passage for text matchingin case the LLM does\n",
    "            not output parseable JSON. Useful for evaluating the model before finetuning.\n",
    "            Defaults to \"\" (no passage); in this case the backup prediction will be \"\".\n",
    "\n",
    "    Returns:\n",
    "        str: option (a letter or \"\") predicted by the model.\n",
    "    \"\"\"\n",
    "    json_text = pred_text\n",
    "    if match := re.search(r\"\\{\", json_text):  # remove anything before first {\n",
    "        json_text = json_text[match.start() :]\n",
    "    if match := re.search(r\"\\}\", json_text[::-1]):  # remove anything after last }\n",
    "        json_text = json_text[: len(json_text) - match.start()]\n",
    "\n",
    "    try:\n",
    "        return json.loads(json_text)[\"option\"]  # try to get the option in the JSON\n",
    "    except (json.JSONDecodeError, KeyError):\n",
    "        if passage:  # if cannot, and a passage is supplied, get the best match\n",
    "            return get_best_match(pred_text, passage)\n",
    "        else:\n",
    "            return \"\"\n",
    "\n",
    "display(parse_prediction(example_pred_text))\n",
    "display(parse_prediction(example_substr, example_passage))\n",
    "display(parse_prediction(example_substr))"
   ]
  },
  {
   "cell_type": "markdown",
   "metadata": {},
   "source": []
  }
 ],
 "metadata": {
  "kernelspec": {
   "display_name": "cloudspace",
   "language": "python",
   "name": "python3"
  },
  "language_info": {
   "codemirror_mode": {
    "name": "ipython",
    "version": 3
   },
   "file_extension": ".py",
   "mimetype": "text/x-python",
   "name": "python",
   "nbconvert_exporter": "python",
   "pygments_lexer": "ipython3",
   "version": "3.10.10"
  }
 },
 "nbformat": 4,
 "nbformat_minor": 2
}
