{
 "cells": [
  {
   "cell_type": "markdown",
   "metadata": {},
   "source": [
    "## Constants"
   ]
  },
  {
   "cell_type": "code",
   "execution_count": 1,
   "metadata": {},
   "outputs": [],
   "source": [
    "TRAIN_SIZE = 300\n",
    "TEST_SIZE = 30\n",
    "SEED = 123"
   ]
  },
  {
   "cell_type": "markdown",
   "metadata": {},
   "source": [
    "## Dataset"
   ]
  },
  {
   "cell_type": "code",
   "execution_count": 2,
   "metadata": {},
   "outputs": [
    {
     "data": {
      "text/plain": [
       "DatasetDict({\n",
       "    train: Dataset({\n",
       "        features: ['input', 'instruction', 'output'],\n",
       "        num_rows: 10178\n",
       "    })\n",
       "})"
      ]
     },
     "metadata": {},
     "output_type": "display_data"
    }
   ],
   "source": [
    "from datasets import load_dataset\n",
    "\n",
    "dataset = load_dataset(\"medalpaca/medical_meadow_medqa\")\n",
    "display(dataset)"
   ]
  },
  {
   "cell_type": "code",
   "execution_count": 3,
   "metadata": {},
   "outputs": [
    {
     "data": {
      "text/plain": [
       "DatasetDict({\n",
       "    train: Dataset({\n",
       "        features: ['input', 'instruction', 'output'],\n",
       "        num_rows: 300\n",
       "    })\n",
       "    test: Dataset({\n",
       "        features: ['input', 'instruction', 'output'],\n",
       "        num_rows: 30\n",
       "    })\n",
       "})"
      ]
     },
     "metadata": {},
     "output_type": "display_data"
    }
   ],
   "source": [
    "dataset = dataset[\"train\"].train_test_split(\n",
    "    train_size=TRAIN_SIZE,\n",
    "    test_size=TEST_SIZE,\n",
    "    shuffle=True,\n",
    "    seed=SEED\n",
    ")\n",
    "display(dataset)"
   ]
  },
  {
   "cell_type": "code",
   "execution_count": 4,
   "metadata": {},
   "outputs": [
    {
     "name": "stdout",
     "output_type": "stream",
     "text": [
      "# Input\n",
      "Q:A 5-year-old boy is brought to the emergency department after he fell on the playground in kindergarten and was unable to get up. His right leg was found to be bent abnormally at the femur, and he was splinted on site by first responders. His past medical history is significant for multiple prior fractures in his left humerus and femur. Otherwise, he has been hitting normal developmental milestones and appears to be excelling in kindergarten. Physical exam also reveals the finding shown in figure A. Which of the following is the most likely cause of this patient's multiple fractures?? \n",
      "{'A': 'Abnormal collagen production', 'B': 'Decreased collagen hydroxylation', 'C': 'Increased adenylyl cyclase activity', 'D': 'Mutation in neurofibromin', 'E': 'Non-accidental trauma'},\n",
      "\n",
      "# Instruction\n",
      "Please answer with one of the option in the bracket\n",
      "\n",
      "# Output\n",
      "C: Increased adenylyl cyclase activity\n"
     ]
    }
   ],
   "source": [
    "def print_sample(sample: dict[str, str]):\n",
    "    message = \"\\n\".join(\n",
    "        f\"\\n# {k.capitalize()}\\n{v}\" for k, v in sample.items()\n",
    "    )[1:]\n",
    "    print(message)\n",
    "\n",
    "print_sample(example := dataset[\"train\"][0])"
   ]
  },
  {
   "cell_type": "code",
   "execution_count": 5,
   "metadata": {},
   "outputs": [
    {
     "data": {
      "text/plain": [
       "DatasetDict({\n",
       "    train: Dataset({\n",
       "        features: ['input', 'output'],\n",
       "        num_rows: 300\n",
       "    })\n",
       "    test: Dataset({\n",
       "        features: ['input', 'output'],\n",
       "        num_rows: 30\n",
       "    })\n",
       "})"
      ]
     },
     "metadata": {},
     "output_type": "display_data"
    },
    {
     "name": "stdout",
     "output_type": "stream",
     "text": [
      "# Input\n",
      "Q: A 5-year-old boy is brought to the emergency department after he fell on the playground in kindergarten and was unable to get up. His right leg was found to be bent abnormally at the femur, and he was splinted on site by first responders. His past medical history is significant for multiple prior fractures in his left humerus and femur. Otherwise, he has been hitting normal developmental milestones and appears to be excelling in kindergarten. Physical exam also reveals the finding shown in figure A. Which of the following is the most likely cause of this patient's multiple fractures?? Provide your answer as a JSON dictionary with the \"option\" and answer \"text\".\n",
      "{'A': 'Abnormal collagen production', 'B': 'Decreased collagen hydroxylation', 'C': 'Increased adenylyl cyclase activity', 'D': 'Mutation in neurofibromin', 'E': 'Non-accidental trauma'}\n",
      "\n",
      "# Output\n",
      "{\"option\": \"C\", \"text\": \"Increased adenylyl cyclase activity\"}\n"
     ]
    }
   ],
   "source": [
    "import json\n",
    "\n",
    "def reformat_sample(sample: dict[str, str]) -> dict[str, str]:\n",
    "    input = \"Q: \" + sample[\"input\"].removeprefix(\"Q:\").removesuffix(\",\")\n",
    "    input = input.replace(\n",
    "        \"\\n{\",\n",
    "        'Provide your answer as a JSON dictionary with the \"option\" and answer \"text\".\\n{'\n",
    "    )\n",
    "\n",
    "    answer_option = sample[\"output\"][0]\n",
    "    answer_text = sample[\"output\"][3:]\n",
    "    output = json.dumps({\"option\": answer_option, \"text\": answer_text})\n",
    "\n",
    "    return {\"input\": input, \"output\": output}\n",
    "\n",
    "\n",
    "dataset = dataset.map(reformat_sample).remove_columns(\"instruction\")\n",
    "\n",
    "display(dataset)\n",
    "print_sample(example := dataset[\"train\"][0])"
   ]
  },
  {
   "cell_type": "markdown",
   "metadata": {},
   "source": [
    "## Load Gemma 2B instruct model"
   ]
  },
  {
   "cell_type": "code",
   "execution_count": 10,
   "metadata": {},
   "outputs": [
    {
     "data": {
      "application/vnd.jupyter.widget-view+json": {
       "model_id": "8a52cea4db134c419905ea0351323118",
       "version_major": 2,
       "version_minor": 0
      },
      "text/plain": [
       "Loading checkpoint shards:   0%|          | 0/2 [00:00<?, ?it/s]"
      ]
     },
     "metadata": {},
     "output_type": "display_data"
    },
    {
     "name": "stdout",
     "output_type": "stream",
     "text": [
      "cpu\n"
     ]
    }
   ],
   "source": [
    "# pip install torch transformers\n",
    "import torch\n",
    "from transformers import AutoTokenizer, AutoModelForCausalLM\n",
    "\n",
    "tokenizer = AutoTokenizer.from_pretrained(\"google/gemma-2b-it\")\n",
    "\n",
    "if torch.cuda.is_available():\n",
    "    # pip install bitsandbytes accelerate\n",
    "    from transformers import BitsAndBytesConfig\n",
    "\n",
    "    quantization_config = BitsAndBytesConfig(load_in_8bit=True)\n",
    "else:\n",
    "    quantization_config = None\n",
    "\n",
    "model = AutoModelForCausalLM.from_pretrained(\n",
    "    \"google/gemma-2b-it\",\n",
    "    quantization_config=quantization_config\n",
    ")\n",
    "print(model.device)"
   ]
  },
  {
   "cell_type": "code",
   "execution_count": 12,
   "metadata": {},
   "outputs": [
    {
     "name": "stdout",
     "output_type": "stream",
     "text": [
      "<bos><start_of_turn>user\n",
      "Q: A 5-year-old boy is brought to the emergency department after he fell on the playground in kindergarten and was unable to get up. His right leg was found to be bent abnormally at the femur, and he was splinted on site by first responders. His past medical history is significant for multiple prior fractures in his left humerus and femur. Otherwise, he has been hitting normal developmental milestones and appears to be excelling in kindergarten. Physical exam also reveals the finding shown in figure A. Which of the following is the most likely cause of this patient's multiple fractures?? Provide your answer as a JSON dictionary with the \"option\" and answer \"text\".\n",
      "{'A': 'Abnormal collagen production', 'B': 'Decreased collagen hydroxylation', 'C': 'Increased adenylyl cyclase activity', 'D': 'Mutation in neurofibromin', 'E': 'Non-accidental trauma'}<end_of_turn>\n",
      "<start_of_turn>model\n",
      "\n"
     ]
    }
   ],
   "source": [
    "chat = [\n",
    "    {\"role\": \"user\", \"content\": example[\"input\"]},\n",
    "    # {\"role\": \"assistant\", \"content\": example[\"output\"]},\n",
    "]\n",
    "print(tokenizer.apply_chat_template(chat, tokenize=False, add_generation_prompt=True))"
   ]
  },
  {
   "cell_type": "code",
   "execution_count": null,
   "metadata": {},
   "outputs": [],
   "source": [
    "input_text = \"\"\"\n",
    "Q:An 82-year-old male with congestive heart failure experiences rapid decompensation of his condition, manifesting as worsening dyspnea, edema, and increased fatigue. Labs reveal an increase in his serum creatinine from baseline. As part of the management of this acute change, the patient is given IV dobutamine to alleviate his symptoms. Which of the following effects occur as a result of this therapy?? {'A': 'Slowed atrioventricular conduction velocities', 'B': 'Increased myocardial oxygen consumption', 'C': 'Decreased heart rate', 'D': 'Increased systemic vascular resistance due to systemic vasoconstriction', 'E': 'Decreased cardiac contractility'},\n",
    "\n",
    "Provide your answer as a JSON dictionary with the \"option\" and answer \"text\".\n",
    "\"\"\".strip()\n",
    "\n",
    "input_ids = tokenizer(input_text, return_tensors=\"pt\").to(model.device)\n",
    "outputs = model.generate(\n",
    "    **input_ids,\n",
    "    do_sample=True,\n",
    "    max_new_tokens=512,\n",
    "    temperature=1e-3,\n",
    ")\n",
    "print(tokenizer.decode(outputs[0]))"
   ]
  }
 ],
 "metadata": {
  "kernelspec": {
   "display_name": "cloudspace",
   "language": "python",
   "name": "python3"
  },
  "language_info": {
   "codemirror_mode": {
    "name": "ipython",
    "version": 3
   },
   "file_extension": ".py",
   "mimetype": "text/x-python",
   "name": "python",
   "nbconvert_exporter": "python",
   "pygments_lexer": "ipython3",
   "version": "3.10.14"
  }
 },
 "nbformat": 4,
 "nbformat_minor": 2
}
